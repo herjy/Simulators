{
 "cells": [
  {
   "cell_type": "markdown",
   "metadata": {},
   "source": [
    "## Simulating lensed and unlensed ZTF-like images"
   ]
  },
  {
   "cell_type": "markdown",
   "metadata": {},
   "source": [
    "### Import python libraries"
   ]
  },
  {
   "cell_type": "code",
   "execution_count": 1,
   "metadata": {},
   "outputs": [
    {
     "name": "stdout",
     "output_type": "stream",
     "text": [
      "Populating the interactive namespace from numpy and matplotlib\n"
     ]
    }
   ],
   "source": [
    "%pylab inline\n",
    "import numpy as np\n",
    "import copy\n",
    "from astropy.cosmology import FlatLambdaCDM\n",
    "from astropy.io import fits\n",
    "import matplotlib.pyplot as plt\n",
    "from matplotlib import rc\n",
    "rc('text', usetex=True)\n",
    "rc(\"font\", family=\"serif\")\n",
    "from mpl_toolkits.axes_grid1 import make_axes_locatable\n",
    "from scipy.interpolate import interp1d\n",
    "from scipy.stats import skewnorm\n",
    "import scipy.stats as stats\n",
    "from tqdm import tqdm\n",
    "import sncosmo\n",
    "import matplotlib.gridspec as gridspec\n",
    "\n",
    "\n",
    "\n",
    "import warnings\n",
    "warnings.filterwarnings('ignore')"
   ]
  },
  {
   "cell_type": "markdown",
   "metadata": {},
   "source": [
    "### Import Lenstronomy libraries"
   ]
  },
  {
   "cell_type": "code",
   "execution_count": 2,
   "metadata": {},
   "outputs": [
    {
     "name": "stdout",
     "output_type": "stream",
     "text": [
      "/Users/remy/opt/anaconda3/bin:/Users/remy/opt/anaconda3/condabin:/Library/Frameworks/Python.framework/Versions/3.8/bin:/Library/Frameworks/Python.framework/Versions/3.9/bin:/anaconda3/bin:/Library/Frameworks/Python.framework/Versions/3.7/bin:/Library/Frameworks/Python.framework/Versions/3.4/bin:/Library/Frameworks/Python.framework/Versions/3.7/bin:usr/local/bin:/Library/Frameworks/Python.framework/Versions/2.7/bin/python2.7:/opt/local/bin:/opt/local/sbin:/Applications/CMake.app/Contents/bin:/usr/local/include:/Library/Frameworks/Python.framework/Versions/2.7/bin:/usr/local/bin:/usr/bin:/bin:/usr/sbin:/sbin:/Library/TeX/texbin\n"
     ]
    }
   ],
   "source": [
    "import lenstronomy.Util.simulation_util as sim_util\n",
    "import lenstronomy.Util.image_util as image_util\n",
    "import lenstronomy.SimulationAPI.sim_api as sim_api\n",
    "import lenstronomy.SimulationAPI.observation_api as observation_api\n",
    "from lenstronomy.Util import param_util\n",
    "from lenstronomy.ImSim.image_model import ImageModel\n",
    "from lenstronomy.PointSource.point_source import PointSource\n",
    "from lenstronomy.LensModel.lens_model import LensModel\n",
    "from lenstronomy.LensModel.Solver.lens_equation_solver import LensEquationSolver\n",
    "from lenstronomy.LightModel.light_model import LightModel\n",
    "from lenstronomy.Sampling.parameters import Param\n",
    "from lenstronomy.Data.imaging_data import ImageData\n",
    "from lenstronomy.Data.psf import PSF\n",
    "from lenstronomy.Plots import lens_plot\n",
    "import lenstronomy.Util.util as util\n",
    "from lenstronomy.Util.numba_util import jit, nan_to_num\n",
    "\n",
    "import os\n",
    "os.environ['PATH']+=':/Library/TeX/texbin'\n",
    "print(os.environ['PATH'])"
   ]
  },
  {
   "cell_type": "markdown",
   "metadata": {},
   "source": [
    "### Running sep on simulated images"
   ]
  },
  {
   "cell_type": "code",
   "execution_count": 3,
   "metadata": {},
   "outputs": [],
   "source": [
    "import sep\n",
    "from scarlet import Starlet\n",
    "from scarlet_extensions.initialization.detection import mad_wavelet\n",
    "\n",
    "def makeCatalog(images, lvl=3, wave=True):\n",
    "    ''' Creates a detection catalog by combining low and high resolution data\n",
    "    This function is used for detection before running scarlet.\n",
    "    It is particularly useful for stellar crowded fields and for detecting high frequency features.\n",
    "    Parameters\n",
    "    ----------\n",
    "    datas: array\n",
    "        array of Data objects\n",
    "    lvl: int\n",
    "        detection lvl\n",
    "    wave: Bool\n",
    "        set to True to use wavelet decomposition of images before combination\n",
    "    Returns\n",
    "    -------\n",
    "    catalog: sextractor catalog\n",
    "        catalog of detected sources\n",
    "    bg_rms: array\n",
    "        background level for each data set\n",
    "    '''\n",
    "    \n",
    "    bkg = sep.Background(images[0])\n",
    "    catalog = sep.extract(images[0], lvl, err=bkg.globalrms)\n",
    "\n",
    "    return catalog, bkg\n",
    "\n"
   ]
  },
  {
   "cell_type": "markdown",
   "metadata": {},
   "source": [
    "### ZTF PSF distribution"
   ]
  },
  {
   "cell_type": "code",
   "execution_count": 4,
   "metadata": {},
   "outputs": [
    {
     "data": {
      "image/png": "[encoded data removed]",
      "text/plain": [
       "<Figure size 504x360 with 1 Axes>"
      ]
     },
     "metadata": {
      "needs_background": "light"
     },
     "output_type": "display_data"
    }
   ],
   "source": [
    "ZTF_psf_samples = skewnorm.rvs(5, loc=1.65, scale=0.875, size=5000)\n",
    "\n",
    "figure(figsize = (7,5))\n",
    "\n",
    "n2, x2, _ = hist(ZTF_psf_samples, bins=30, density=True, histtype='stepfilled', alpha=0.75, color=\"lightskyblue\",\n",
    "     label=r\"$\\mathrm{ZTF \\ samples}$\");\n",
    "\n",
    "n1, x1 = np.histogram(ZTF_psf_samples, bins=100, range=(0, 10), density=True);\n",
    "density1 = stats.gaussian_kde(ZTF_psf_samples)\n",
    "\n",
    "xlabel(r\"$\\mathrm{FWHM}$\", fontsize=18);\n",
    "ylabel(r\"$N_{\\mathrm{SNe}}$\", fontsize=18);\n",
    "#plot(x1, density1(x1),'-', color=\"midnightblue\", lw=5, alpha=0.6)\n",
    "plot(x1, density1(x1),'-', color=\"midnightblue\", lw=5, alpha=0.6, label=r'$\\mathrm{Skewnorm \\ distribution}$')\n",
    "title(r\"$\\mathrm{ZTF \\ PSF \\ distribution}$\", fontsize=18);\n",
    "legend(fontsize=18);\n",
    "\n",
    "#savefig(\"ZTF_PSF_distribution.pdf\", bbox_inches=\"tight\")"
   ]
  },
  {
   "cell_type": "markdown",
   "metadata": {},
   "source": [
    "### Generating an ensemble of lensed and unlensed SNe images\n",
    "\n",
    "#### Misc. notes & image characteristics:\n",
    "\n",
    "* Only showing the lensed supernova images or unlensed supernova as point source in host galaxy\n",
    "* Host (source) galaxy and lens galaxy are not shown as in typical YSE subtracted images, such that their light profiles are irrelevant\n",
    "* Assumes Planck 2018 Cosmology\n",
    "* Units are generally photon counts per pixel\n",
    "* Pixel size of `delta_pix` = 0.25 arcsec implies a postage stamp extending 12.0 arcsecs for `numPix` = 48\n",
    "* Background noise per pixel (Gaussian): `sigma_bkg` = 6.5\n",
    "* Exposure time (arbitrary units, flux per pixel is in units #photons/exp_time unit): `exp_time` = 27 s\n",
    "* Lens position is fixed at centre: `{'center_x': 0, 'center_y': 0}` (when specifying both Sersic profile and lens model)\n",
    "* Point source amplitude `amp_ps`: We use the source redshift `z_source` to obtain the corresponding absolute magnitude (including K-correction) `abs_mag_ps`, which we then convert to apparent magnitude `app_mag_ps` while taking into account the computed magnification. Finally, we convert `app_mag_ps` to the data counts per second using the magnitude zero-point of the relevant band (e.g. i-band), which multiplied with the `exp_time` yields the desired `amp_ps`.\n",
    "\n",
    "#### Parameters sampled from their respective distributions:\n",
    "\n",
    "* Index to label lensed or unlensed SNe: `lensing_index` ~ Drawn from a discrete uniform distribution\n",
    "* Full width half max of (Gaussian) PSF - `fwhm` ~ skewed Gaussian $(a=5, \\mu=0.95, \\sigma=0.375)$\n",
    "* Redshift of lens: `z_lens` $\\sim \\mathcal{G}(0.4, 0.1)$\n",
    "* Redshift of (lensed) source: `z_source` ~ skewed Gaussian $(a=2.5, \\mu=0.67, \\sigma=0.1)$\n",
    "* Redshift of (unlensed) source: `z_source` ~ skewed Gaussian $(a=10, \\mu=0.065, \\sigma=0.1)$\n",
    "* Source position: `(ra_source, dec_source)` ~ $\\mathcal{G}(0, 0.65)$\n",
    "* Source and lens galaxy intensity: both `amp` set to zero - their Sersic profiles are not irrelevant\n",
    "* Microlensing - Need to specify intrinsic supernova brightness (`amp_ps`): `point_amp = mag_pert * amp_ps`, where `mag_pert` $\\sim \\mathcal{G}(\\mathrm{mag}, 0.05)$, thereby perturbing observed (computed) magnification `mag`\n",
    "* Lens model (power-law elliptical potential) parameters: `phi_lens` $\\sim \\mathcal{U}(-\\pi/2, \\pi/2)$, `q_lens` $\\sim \\mathcal{G}(0.7, 0.15)$, `theta_E` $\\sim \\mathcal{G}(1.1, 0.1)$, `gamma` $\\sim \\mathcal{G}(2.0, 0.1)$ (Note that this is a 6-parameter model, with `phi_lens` & `q_lens` used to compute `e1` & `e1`, with the `center_x` & `center_y` positions constituting the remaining 2 parameters)\n",
    "* Environment parameters: shear angle, `phi_ext` $\\sim \\mathcal{U}(-\\pi/2, \\pi/2)$, shear strength, `gamma_ext` $\\sim \\mathcal{U}(0, 0.05)$\n",
    "\n",
    "#### Light curve parameters:\n",
    "\n",
    "* Stretch parameter `x_1` ~ skewed Gaussian $(a=-3.64, \\mu=0.96, \\sigma=1.15)$\n",
    "* Colour parameter `c` ~ skewed Gaussian $(a=5.5, \\mu=-0.11, \\sigma=0.13)$\n",
    "* Absolute magnitude without colour and stretch correlation `M_corrected` ~ $\\mathcal{G}(-19.43, 0.12)$\n",
    "* MW dust extinction `E(B-V)` ~ $\\sim \\mathcal{U}(0, 0.1)$\n",
    "* Observation times: sampled between $\\sim \\mathcal{U}(-20, 0)$ and $\\sim \\mathcal{U}(10, 100)$ with a cadence of 6 days for YSE i-band."
   ]
  },
  {
   "cell_type": "code",
   "execution_count": 5,
   "metadata": {},
   "outputs": [
    {
     "name": "stdout",
     "output_type": "stream",
     "text": [
      "8.5\n"
     ]
    }
   ],
   "source": [
    "# - - - Planck 2018 cosmology - - -\n",
    "from astropy.cosmology import Planck18 as cosmo\n",
    "\n",
    "# - - - Data specifics - - -\n",
    "sigma_bkg = 8.5 # background noise per pixel (Gaussian)\n",
    "exp_time = 30 # seconds # exposure time\n",
    "numPix = 48 # cutout pixel size\n",
    "deltaPix = 1. #  pixel size in arcsec (area per pixel = deltaPix**2)\n",
    "patch_size = deltaPix*numPix\n",
    "fwhm = 2.0\n",
    "\n",
    "psf_type = 'GAUSSIAN' # 'GAUSSIAN', 'PIXEL', 'NONE'\n",
    "kwargs_data = sim_util.data_configure_simple(numPix, deltaPix, exp_time, sigma_bkg)\n",
    "data_class = ImageData(**kwargs_data)\n",
    "\n",
    "# - - - Converting apparent magnitude to 'amp' for ZTF r-band - - -\n",
    "obs_api = observation_api.SingleBand(pixel_scale=deltaPix, exposure_time=exp_time, magnitude_zero_point=24.20,\n",
    "                                     read_noise=None, ccd_gain=None, sky_brightness=None, seeing=fwhm,\n",
    "                                     num_exposures=1, psf_type='GAUSSIAN', kernel_point_source=None, truncation=5,\n",
    "                                     data_count_unit='e-', background_noise=sigma_bkg)\n",
    "\n",
    "sigma_bkg = obs_api.background_noise\n",
    "\n",
    "print(sigma_bkg)\n",
    "\n",
    "# - - - Light profiles - - -\n",
    "# list of light profiles (for lens and source)\n",
    "# 'SERSIC': spherical Sersic profile\n",
    "lens_light_model_list = ['SERSIC']\n",
    "# To turn lens on: set 'amp' to a nonzero value (for example 400)\n",
    "kwargs_sersic = {'amp': 0, 'R_sersic': 1., 'n_sersic': 2, 'center_x': 0, 'center_y': 0}\n",
    "kwargs_lens_light = [kwargs_sersic]\n",
    "lens_light_model_class = LightModel(light_model_list=lens_light_model_list)"
   ]
  },
  {
   "cell_type": "code",
   "execution_count": 6,
   "metadata": {},
   "outputs": [],
   "source": [
    "cadence = 3 # days\n",
    "zlens_zSN_theta = np.load(\"sample_zl_zsn_theta.npz\")['zlens_zSN_theta'] # samples from joint PDF\n",
    "z_source_threshold = 0.9\n",
    "theta_E_threshold = .0\n",
    "z_source_list_ = []\n",
    "z_lens_list_ = []\n",
    "theta_E_list_ = []\n",
    "for m in range(zlens_zSN_theta.shape[0]):\n",
    "    if zlens_zSN_theta[m,1] < z_source_threshold and zlens_zSN_theta[m,1] > zlens_zSN_theta[m,0] and zlens_zSN_theta[m,2] > theta_E_threshold:\n",
    "        z_source_list_.append(zlens_zSN_theta[m,1])\n",
    "        z_lens_list_.append(zlens_zSN_theta[m,0])\n",
    "        theta_E_list_.append(zlens_zSN_theta[m,2])\n",
    "\n",
    "# - - - Make a grid - - - \n",
    "kwargs_data = sim_util.data_configure_simple(numPix, deltaPix)\n",
    "data = ImageData(**kwargs_data)\n",
    "max_coordinate, min_coordinate = max(data.pixel_coordinates[0][0]), min(data.pixel_coordinates[0][0])\n",
    "x_grid, y_grid = data.pixel_coordinates\n",
    "x_grid1d = util.image2array(x_grid)\n",
    "y_grid1d = util.image2array(y_grid)\n",
    "\n",
    "\n",
    "# - - - Light curve specifics - - -\n",
    "bandpass = 'ztfr'\n",
    "dustmodel = sncosmo.F99Dust(r_v=3.1)\n",
    "model = sncosmo.Model(source='salt2', effects=[dustmodel], effect_names=['mw'], effect_frames=['obs'])\n",
    "\n",
    "\n",
    "# - - - Tripp Formula - - -\n",
    "Alpha = 0.14\n",
    "Beta = 3.1\n",
    "\n",
    "def M_obs(x1_, c_, M_corrected_):\n",
    "    return - Alpha * x1_ + Beta * c_ + M_corrected_"
   ]
  },
  {
   "cell_type": "code",
   "execution_count": 7,
   "metadata": {},
   "outputs": [
    {
     "data": {
      "text/plain": [
       "76842"
      ]
     },
     "execution_count": 7,
     "metadata": {},
     "output_type": "execute_result"
    }
   ],
   "source": [
    "len(z_source_list_)"
   ]
  },
  {
   "cell_type": "markdown",
   "metadata": {},
   "source": [
    "### Generation of training, validation and test sets.\n",
    "\n",
    "For training, we want a balanced data set, i.e. ~50% lensed/unlensed images, with a total of 80000 images, where 20% of the training data can be kept for validation. To that end, we draw a random number uniformly between 0 and 1, and if number is > 0.1, then lensed (`lensing index=1`), else, unlensed (`lensing index=0`). This takes into account the fact that ~12% of generated lensed images do not yield visible sources.\n",
    "For testing, we generate a data set of 10000 images, with realistic ratio of unlensed to lensed images.\n",
    "\n",
    "Note: `sum(lensing_index_list)/len(lensing_index_list)` will yield the fraction of lensed to unlensed images."
   ]
  },
  {
   "cell_type": "code",
   "execution_count": 8,
   "metadata": {},
   "outputs": [
    {
     "name": "stderr",
     "output_type": "stream",
     "text": [
      "\r",
      "  0%|                                                                                                                                                    | 0/38421.0 [00:00<?, ?it/s]"
     ]
    },
    {
     "name": "stdout",
     "output_type": "stream",
     "text": [
      "38421.0\n"
     ]
    }
   ],
   "source": [
    "catalog_time_series = []\n",
    "images_single = []\n",
    "images_peak = []\n",
    "max_time_delay = []\n",
    "ra_source_list = []\n",
    "dec_source_list = []\n",
    "z_source_list = []\n",
    "z_lens_list = []\n",
    "theta_E_list = []\n",
    "point_amp_list = []\n",
    "abs_mag_ps_list = []\n",
    "app_mag_ps_list = []\n",
    "magnification_list = []\n",
    "PSF_list = []\n",
    "noise = []\n",
    "data_labels = []\n",
    "colour_param = []\n",
    "stretch_param = []\n",
    "time_stamps = []\n",
    "NumSamples = int(len(z_source_list_)*2) # training (80%) + validation (20%)\n",
    "limiting_magnitude = 21.3 #21.1 # For ZTF r-band\n",
    "training = True\n",
    "lensed_test = False\n",
    "unlensed_test = False\n",
    "index = 0 # Labels a given sample (both lensed and unlensed)\n",
    "index_l = 0 # Labels lensed sample\n",
    "counter = 0 # Total number of attempts\n",
    "tqdm._instances.clear()\n",
    "pbar = tqdm(total=NumSamples/4)\n",
    "print(NumSamples/4.)"
   ]
  },
  {
   "cell_type": "code",
   "execution_count": null,
   "metadata": {
    "scrolled": true
   },
   "outputs": [
    {
     "name": "stdout",
     "output_type": "stream",
     "text": [
      "Not enough lensed samples!\n"
     ]
    },
    {
     "name": "stderr",
     "output_type": "stream",
     "text": [
      " 32%|██████████████████████████████████████████▏                                                                                       | 12480/38421.0 [64:49:22<77:05:04, 10.70s/it]"
     ]
    }
   ],
   "source": [
    "\n",
    "\n",
    "\n",
    "# - - - Binary lensing label - - -\n",
    "if training:\n",
    "    lensing_index_list = np.random.randint(0, high=2, size=NumSamples)\n",
    "    if sum(lensing_index_list) > len(z_source_list_):\n",
    "        print(\"Not enough lensed samples!\")\n",
    "    # Drawing samples for combinations of (z_source, z_lens, theta_E)\n",
    "    sample = np.random.choice(len(z_source_list_), size=len(z_source_list_), replace=False)\n",
    "else:\n",
    "    if unlensed_test:\n",
    "        lensing_index_list = np.zeros([NumSamples], dtype=int)\n",
    "    if lensed_test:\n",
    "        lensing_index_list = np.ones([NumSamples], dtype=int)\n",
    "        sample = np.random.choice(len(z_source_list_), size=len(z_source_list_), replace=False)\n",
    "\n",
    "patience = []\n",
    "\n",
    "\n",
    "# - - - Main generation loop - - -\n",
    "while index < NumSamples/4.:\n",
    "    patience.append(index)\n",
    "    if len(patience) > 100:\n",
    "        patience = []\n",
    "        index += 1\n",
    "        continue\n",
    "    lensing_index = lensing_index_list[index]\n",
    "\n",
    "    # - - - Lens configuration - - -\n",
    "    if lensing_index == 0:\n",
    "        z_source = float(skewnorm.rvs(5, loc=0.08, scale=0.1, size=1))\n",
    "        z_lens = np.random.normal(0.4, 0.1) # Not used\n",
    "        theta_E = 1.0 # Not used\n",
    "        lens_model_list = []\n",
    "    else:\n",
    "        z_source = z_source_list_[sample[index_l]]\n",
    "        z_lens = z_lens_list_[sample[index_l]]\n",
    "        theta_E = theta_E_list_[sample[index_l]]\n",
    "        lens_model_list = ['EPL', 'SHEAR_GAMMA_PSI'] # EPL = Elliptical power law mass profile\n",
    "\n",
    "    # The following conditions are already enforced for lensed sources\n",
    "    #if z_source > z_source_threshold or z_source < z_lens:\n",
    "        #continue\n",
    "    if z_source < 0 or z_lens < 0: # Safety check for unlensed sources\n",
    "        continue\n",
    "\n",
    "    # phi_ext: shear angle (in radian)\n",
    "    # gamma_ext: shear strength\n",
    "    kwargs_shear = {'gamma_ext': np.random.uniform(0, 0.05), 'psi_ext': np.random.uniform(-np.pi/2, np.pi/2)}\n",
    "\n",
    "    phi_lens, q_lens = np.random.uniform(-np.pi/2, np.pi/2), np.random.normal(0.7, 0.15)\n",
    "    while q_lens < 0 or q_lens > 1:\n",
    "        q_lens = np.random.normal(0.7, 0.15)\n",
    "    e1, e2 = param_util.phi_q2_ellipticity(phi_lens, q_lens)\n",
    "    counter += 1\n",
    "\n",
    "    kwargs_epl = {'theta_E': theta_E, 'gamma': np.random.normal(2.0, 0.1),\n",
    "                    'center_x': 0, 'center_y': 0, 'e1': e1, 'e2': e2}\n",
    "    kwargs_lens = [kwargs_epl, kwargs_shear]\n",
    "    lens_model_class = LensModel(lens_model_list=lens_model_list, z_lens=z_lens, z_source=z_source, cosmo=cosmo)\n",
    "\n",
    "\n",
    "    # - - - Source specification - - -\n",
    "    source_model_list = ['SERSIC_ELLIPSE']\n",
    "    if lensing_index == 1:\n",
    "        ra_source, dec_source = np.random.normal(0, 0.3*theta_E), np.random.normal(0, 0.3*theta_E) #np.random.uniform(-theta_E, theta_E), np.random.uniform(-theta_E, theta_E)\n",
    "    else:\n",
    "        ra_source, dec_source = np.random.normal(0, 0.65), np.random.normal(0, 0.65)\n",
    "    kwargs_sersic_ellipse = {'amp': 0, 'R_sersic': .1, 'n_sersic': 3, 'center_x': ra_source,\n",
    "                             'center_y': dec_source, 'e1': -0.1, 'e2': 0.01}\n",
    "    kwargs_source = [kwargs_sersic_ellipse]\n",
    "    source_model_class = LightModel(light_model_list=source_model_list)\n",
    "\n",
    "    lensEquationSolver = LensEquationSolver(lens_model_class)\n",
    "    x_image, y_image = lensEquationSolver.findBrightImage(ra_source, dec_source, kwargs_lens, numImages=4,\n",
    "                                                          min_distance=0.1, search_window=numPix * deltaPix)\n",
    "\n",
    "    if lensing_index == 1 and x_image.sum() == 0:\n",
    "        continue\n",
    "\n",
    "    # compute lensing magnification at image positions\n",
    "    mag = lens_model_class.magnification(x_image, y_image, kwargs=kwargs_lens)\n",
    "    mag = np.abs(mag) # ignore the sign of the magnification\n",
    "    if lensing_index == 1 and mag.size < 2:\n",
    "        continue\n",
    "\n",
    "    # perturb observed magnification due to e.g. micro-lensing\n",
    "    if lensing_index == 1:\n",
    "        mag_pert = np.abs(np.random.normal(mag, 0.05, len(mag)))\n",
    "    else:\n",
    "        mag_pert = mag.copy() # This is unity\n",
    "\n",
    "\n",
    "    # - - - Time delay surface - - -               # Geometric + gravitational time delay\n",
    "    if lensing_index == 1:\n",
    "        td_grid = lens_model_class.arrival_time(x_image=x_grid1d, y_image=y_grid1d, kwargs_lens=kwargs_lens)\n",
    "        td_grid = util.array2image(td_grid)\n",
    "        td_images = lens_model_class.arrival_time(x_image=x_image, y_image=y_image, kwargs_lens=kwargs_lens)\n",
    "    else:\n",
    "        td_images = 0.0\n",
    "\n",
    "\n",
    "    # - - - Light curve - - - \n",
    "    MW_dust = np.random.uniform(0, 0.1)         # E(B-V)\n",
    "    x1 = skewnorm.rvs(-3.638, 0.961, 1.151)     # Stretch parameter\n",
    "    c = skewnorm.rvs(5.500, -0.108, 0.131)      # Colour parameter\n",
    "    M_corrected = np.random.normal(-19.43, 0.12)# Absolute magnitude without colour/stretch correlation\n",
    "    M_observed = M_obs(x1, c, M_corrected)      # Absolute magnitude with colour/stretch correlation\n",
    "\n",
    "    model.set(z=z_source, t0=0.0, x1=x1, c=c, mwebv=MW_dust)\n",
    "    model.set_source_peakabsmag(M_observed, 'bessellb', 'ab', cosmo=cosmo)\n",
    "    x0 = model.get('x0')\n",
    "    model.set(x0=x0)\n",
    "\n",
    "\n",
    "    # - - - Observing days - - - \n",
    "    if lensing_index == 0:\n",
    "        days = np.arange(model.mintime(), model.maxtime(), cadence)   \n",
    "    else:\n",
    "        days = np.arange(model.mintime() + min(td_images), model.maxtime() + max(td_images), cadence)\n",
    "\n",
    "    # - - - Image time series - - - \n",
    "    time_series = []\n",
    "    time_series_full = []\n",
    "    point_amp_max = []\n",
    "    app_mag_min = []\n",
    "    app_mag_ps_list_ = []\n",
    "    point_amp_list_ = []\n",
    "    temp_index_list = []\n",
    "    fwhm_list = []\n",
    "    times = [] # Times where points are recorded relative to the begininning of the explosion\n",
    "    time_series_cat = []\n",
    "    temp_index = 0\n",
    "    \n",
    "    for day in days:\n",
    "        # Sample PSF for each observed epoch\n",
    "        fwhm = float(skewnorm.rvs(5, loc=1.65, scale=0.875, size=1))\n",
    "        kwargs_psf = {'psf_type': psf_type, 'pixel_size': deltaPix, 'fwhm': fwhm}\n",
    "        psf_class = PSF(**kwargs_psf)\n",
    "        fwhm_list.append(fwhm)\n",
    "\n",
    "        # Assign apparent magnitudes to point source and convert to amplitude parameter\n",
    "        app_mag_ps = model.bandmag(bandpass, time=day - td_images, magsys='ab')\n",
    "        amp_ps = obs_api.magnitude2cps(app_mag_ps)*exp_time\n",
    "\n",
    "        # Filter out nans in the fluxes\n",
    "        if lensing_index == 1:\n",
    "            if np.any(np.isnan(amp_ps)):\n",
    "                amp_ps[np.isnan(amp_ps)] = 0.0\n",
    "        else:\n",
    "            if np.isnan(amp_ps):\n",
    "                amp_ps = 0.0\n",
    "\n",
    "        point_amp = mag_pert*amp_ps  # multiply by intrinsic supernova brightness (in counts/s)\n",
    "        #point_amp_list_.append(point_amp) # DKR\n",
    "        point_amp_max.append(point_amp.max())\n",
    "        app_mag_ps = np.nan_to_num(app_mag_ps, nan=np.inf)\n",
    "        app_mag_ps -= 2.5*np.log10(mag_pert)\n",
    "        app_mag_min.append(app_mag_ps.min())\n",
    "        #app_mag_ps_list_.append(app_mag_ps) # DKR\n",
    "\n",
    "        kwargs_ps = [{'ra_image': x_image, 'dec_image': y_image, 'point_amp': point_amp}]\n",
    "\n",
    "        if lensing_index == 0:\n",
    "            point_source_list = ['SOURCE_POSITION']\n",
    "            kwargs_ps = [{'ra_source': ra_source, 'dec_source': dec_source, 'point_amp': point_amp}]\n",
    "        else:\n",
    "            point_source_list = ['LENSED_POSITION']\n",
    "\n",
    "        point_source_class = PointSource(point_source_type_list=point_source_list, fixed_magnification_list=[False])\n",
    "        kwargs_numerics = {'supersampling_factor': 1, 'supersampling_convolution': False}\n",
    "\n",
    "\n",
    "        # - - - Create the image - - -\n",
    "        imageModel = ImageModel(data_class, psf_class, lens_model_class, source_model_class, lens_light_model_class,\n",
    "                                point_source_class, kwargs_numerics=kwargs_numerics)\n",
    "        image_sim_ = imageModel.image(kwargs_lens, kwargs_source, kwargs_lens_light, kwargs_ps)\n",
    "        poisson = image_util.add_poisson(image_sim_, exp_time=exp_time)\n",
    "        bkg = image_util.add_background(image_sim_, sigma_bkd=sigma_bkg)\n",
    "        image_sim = image_sim_ + poisson + bkg\n",
    "        \n",
    "        time_series_full.append(image_sim)\n",
    "        if app_mag_ps.min() < limiting_magnitude+5: #Added a +5 to let draw even if faint\n",
    "            point_amp_list_.append(point_amp) # DKR\n",
    "            app_mag_ps_list_.append(app_mag_ps) # DKR\n",
    "            #time_series.append(image_sim)\n",
    "            temp_index_list.append(temp_index)\n",
    "            times.append(day)\n",
    "            \n",
    "            #Running detection with sep\n",
    "            catalog, bg = makeCatalog(image_sim[None], lvl=3, wave=False)\n",
    "            time_series_cat.append(catalog)\n",
    "            \n",
    "        temp_index += 1\n",
    "\n",
    "        kwargs_data['image_data'] = image_sim\n",
    "        data_class.update_data(image_sim)\n",
    "    \n",
    "        \n",
    "            \n",
    "    #print(min(app_mag_min)) # DKR\n",
    "    if min(app_mag_min) > limiting_magnitude:\n",
    "        continue\n",
    "\n",
    "    if lensing_index == 0:\n",
    "        data_labels.append([0,1])\n",
    "    else:\n",
    "        data_labels.append([1,0])\n",
    "        index_l += 1\n",
    "    \n",
    "    index += 1\n",
    "    pbar.update(1)\n",
    "    \n",
    "    np.random.shuffle(temp_index_list)\n",
    "    # - - - Save all desired quantities - - -\n",
    "    abs_mag_ps_list.append(M_observed)\n",
    "    app_mag_ps_list.append(app_mag_ps_list_)\n",
    "    catalog_time_series.append(time_series_cat)\n",
    "    colour_param.append(c)\n",
    "    dec_source_list.append(dec_source)\n",
    "    images_peak.append(time_series_full[np.argmax(point_amp_max)]) # single-epoch model (peak)\n",
    "    images_single.append(np.sum(time_series_full, axis = 0)) # single-epoch model (random among visible)\n",
    "    magnification_list.append(mag_pert)\n",
    "    point_amp_list.append(point_amp_list_)\n",
    "    PSF_list.append(fwhm_list)\n",
    "    ra_source_list.append(ra_source)\n",
    "    stretch_param.append(x1)\n",
    "    theta_E_list.append(theta_E)\n",
    "    time_stamps.append(times)\n",
    "    z_source_list.append(z_source)\n",
    "    z_lens_list.append(z_lens)\n",
    "    if lensing_index == 1:\n",
    "        max_time_delay.append(abs(max(td_images) - min(td_images)))\n",
    "    else:\n",
    "        max_time_delay.append(0)\n",
    "        \n",
    "    if index%1000 == 0:\n",
    "        np.savez(\"data/ZTF_training_images_26k_iband_image_properties_EPL_1.npz\", \n",
    "                 data_labels=data_labels,z_source_list=z_source_list, point_amp_list=point_amp_list, \n",
    "                 abs_mag_ps_list=abs_mag_ps_list,app_mag_ps_list=app_mag_ps_list, \n",
    "                 theta_E_list=theta_E_list, PSF_list=PSF_list, colour_param=colour_param,\n",
    "                 stretch_param=stretch_param, max_time_delay=max_time_delay, z_lens_list=z_lens_list, \n",
    "                 time_stamps=time_stamps,ra_source_list=ra_source_list, \n",
    "                 dec_source_list=dec_source_list, magnification_list=magnification_list)\n",
    "        np.savez(\"data/ZFT_training_images_26k_iband_time_series_images_EPL_1.npz\", \n",
    "                 catalog_time_series=catalog_time_series, images_single=images_single, images_peak=images_peak, \n",
    "                 time_stamps=time_stamps, data_labels=data_labels)\n"
   ]
  },
  {
   "cell_type": "markdown",
   "metadata": {},
   "source": [
    "### Plot light curves\n",
    "\n",
    "The two code snippets below are for plotting light curves for a lensed and unlensed supernova, respectively."
   ]
  },
  {
   "cell_type": "code",
   "execution_count": null,
   "metadata": {},
   "outputs": [],
   "source": [
    "### LENSED VERSION\n",
    "\n",
    "# Plot light curve with observation epochs\n",
    "fig2, ax2 = plt.subplots(1, 1, figsize=(12, 5))\n",
    "fig2.gca().invert_yaxis()\n",
    "ax2.set_xlabel(\"Day\", fontsize=18)\n",
    "ax2.set_ylabel(\"Apparent magnitude\", fontsize=18)\n",
    "ax2.set_title(r\"Light curve\", fontsize=25)\n",
    "\n",
    "colours = ['#3bb852','#1fa3a3','#205cd4','#7143bf']\n",
    "fluxes = []\n",
    "day_range = np.linspace(min([td_images])-100, max([td_images])+100, 1000)\n",
    "#mags = model.bandmag(bandpass, time=days, magsys='ab')\n",
    "for image in range(len([td_images])):\n",
    "    flux = model.bandflux(bandpass, time=day_range - [td_images][image])\n",
    "    flux *= mag_pert[image]\n",
    "    fluxes.append(flux)\n",
    "    mags_range = model.bandmag(bandpass, time=day_range - [td_images][image], magsys='ab')\n",
    "    mags_range -= 2.5*np.log10(mag_pert[image])\n",
    "    ax2.plot(day_range, mags_range, lw=2, label=\"Image \" + str(image), color=colours[image])\n",
    "\n",
    "zeropoint = sncosmo.ABMagSystem(name='ab').zpbandflux(bandpass)\n",
    "total_flux = np.sum(fluxes, axis=0)\n",
    "total_mag = -2.5 * np.log10(total_flux/zeropoint)\n",
    "total_lightcurve = interp1d(day_range, total_mag, bounds_error=False)\n",
    "ax2.plot(day_range, total_mag, '--', lw=2, color=\"gray\", label=\"Total\")\n",
    "ax2.plot(days, total_lightcurve(days), '.', ms=10, color=\"black\", label=\"Observations\")\n",
    "ax2.legend(loc=(1.01, 0.5), fontsize=18)\n",
    "#fig2.savefig(\"Lightcurves_time_delays.png\", transparent=False, facecolor='white', dpi=300, bbox_inches='tight')\n",
    "\n",
    "### UNLENSED VERSION\n",
    "\n",
    "# Plot light curve with observation epochs\n",
    "fig2, ax2 = plt.subplots(1, 1, figsize=(12, 5))\n",
    "fig2.gca().invert_yaxis()\n",
    "ax2.set_xlabel(\"Day\", fontsize=18)\n",
    "ax2.set_ylabel(\"Apparent magnitude\", fontsize=18)\n",
    "ax2.set_title(r\"Light curve\", fontsize=25)\n",
    "\n",
    "\n",
    "colours = ['#3bb852','#1fa3a3','#205cd4','#7143bf']\n",
    "fluxes = []\n",
    "day_range = np.linspace(td_images-100, td_images+100, 1000)\n",
    "#mags = model.bandmag(bandpass, time=days, magsys='ab')\n",
    "image = 0\n",
    "print(bandpass)\n",
    "flux = model.bandflux(bandpass, time=day_range - td_images)\n",
    "flux *= mag_pert[image]\n",
    "fluxes.append(flux)\n",
    "mags_range = model.bandmag(bandpass, time=day_range - td_images, magsys='ab')\n",
    "mags_range -= 2.5*np.log10(mag_pert[image])\n",
    "ax2.plot(day_range, mags_range, lw=2, label=\"Image \" + str(image), color=colours[image])\n",
    "\n",
    "zeropoint = sncosmo.ABMagSystem(name='ab').zpbandflux(bandpass)\n",
    "total_flux = np.sum(fluxes, axis=0)\n",
    "total_mag = -2.5 * np.log10(total_flux/zeropoint)\n",
    "total_lightcurve = interp1d(day_range, total_mag, bounds_error=False)\n",
    "ax2.plot(day_range, total_mag, '--', lw=2, color=\"gray\", label=\"Total\")\n",
    "ax2.plot(days, total_lightcurve(days), '.', ms=10, color=\"black\", label=\"Observations\")\n",
    "ax2.legend(loc=(1.01, 0.5), fontsize=18)\n",
    "#fig2.savefig(\"Lightcurves_time_delays_unlensed.pdf\", transparent=False, facecolor='white', dpi=300, bbox_inches='tight')"
   ]
  },
  {
   "cell_type": "code",
   "execution_count": null,
   "metadata": {},
   "outputs": [],
   "source": [
    "print(np.shape(images_single))\n",
    "\n",
    "imshow(images_single[17], cmap=\"viridis\", origin=\"lower\", extent=(-24,24,-24,24)) \n",
    "#colorbar()"
   ]
  },
  {
   "cell_type": "code",
   "execution_count": null,
   "metadata": {},
   "outputs": [],
   "source": [
    "# acceptance\n",
    "index/counter"
   ]
  },
  {
   "cell_type": "code",
   "execution_count": null,
   "metadata": {},
   "outputs": [],
   "source": [
    "z_source_list"
   ]
  },
  {
   "cell_type": "code",
   "execution_count": null,
   "metadata": {},
   "outputs": [],
   "source": [
    "np.array(theta_E_list)[np.where(np.array(data_labels)[0,:]==1)]"
   ]
  },
  {
   "cell_type": "code",
   "execution_count": null,
   "metadata": {},
   "outputs": [],
   "source": [
    "sum(lensing_index_list)"
   ]
  },
  {
   "cell_type": "code",
   "execution_count": null,
   "metadata": {},
   "outputs": [],
   "source": [
    "hist(theta_E_list, bins=25, histtype='step', density=True, lw=2, color=\"midnightblue\", alpha=0.6);\n",
    "#plot(theta_E, 9*pdf,'-', color=\"darkgoldenrod\", lw=5, alpha=0.6, label=r'$\\mathrm{Radek \\ MC}$')\n",
    "xlabel(r\"$\\theta_{\\mathrm{E}}$\", fontsize=15);\n",
    "#xlabel(r\"$m$\", fontsize=15);\n",
    "ylabel(\"Counts\", fontsize=15);\n",
    "title(\"Einstein radius distribution\", fontsize=15);\n",
    "#xlim(0,3.6);\n",
    "#savefig(\"theta_E_distribution_EPL2.pdf\", bbox_inches=\"tight\")"
   ]
  },
  {
   "cell_type": "code",
   "execution_count": null,
   "metadata": {},
   "outputs": [],
   "source": [
    "#hist(zlens_zSN_theta[:,0], bins=30, density=True, histtype='step', lw=2, color=\"crimson\", label=r\"$z_{\\mathrm{lens}}$\");\n",
    "#hist(zlens_zSN_theta[:,1], bins=30, density=True, histtype='step', lw=2, color=\"C0\", label=r\"$z_{\\mathrm{source}}$\");\n",
    "\n",
    "hist(z_source_list, bins=30, histtype='step', lw=2, color=\"C0\", label=r\"$z_{\\mathrm{source}}$\");\n",
    "hist(z_lens_list, bins=30, histtype='step', lw=2, color=\"crimson\", label=r\"$z_{\\mathrm{lens}}$\");\n",
    "xlabel(\"redshift\", fontsize=15);\n",
    "#xlabel(r\"$m$\", fontsize=15);\n",
    "ylabel(\"Counts\", fontsize=15);\n",
    "title(\"Redshift distribution\", fontsize=15);\n",
    "legend(fontsize=15);\n",
    "#savefig(\"redshift_distribution_EPL2.pdf\", bbox_inches=\"tight\")"
   ]
  },
  {
   "cell_type": "code",
   "execution_count": null,
   "metadata": {},
   "outputs": [],
   "source": [
    "#hist(zlens_zSN_theta[:,0], bins=30, density=True, histtype='step', lw=2, color=\"crimson\", label=r\"$z_{\\mathrm{lens}}$\");\n",
    "#hist(zlens_zSN_theta[:,1], bins=30, density=True, histtype='step', lw=2, color=\"C0\", label=r\"$z_{\\mathrm{source}}$\");\n",
    "\n",
    "hist(ra_source_list, bins=30, histtype='step', lw=2, color=\"C0\", label=r\"RA$_{\\mathrm{source}}$\");\n",
    "hist(dec_source_list, bins=30, histtype='step', lw=2, color=\"crimson\", label=r\"DEC$_{\\mathrm{source}}$\");\n",
    "xlabel(\"position\", fontsize=15);\n",
    "#xlabel(r\"$m$\", fontsize=15);\n",
    "ylabel(\"Counts\", fontsize=15);\n",
    "title(\"Source position distribution\", fontsize=15);\n",
    "legend(fontsize=15);\n",
    "#savefig(\"redshift_distribution_EPL2.pdf\", bbox_inches=\"tight\")"
   ]
  },
  {
   "cell_type": "code",
   "execution_count": null,
   "metadata": {},
   "outputs": [],
   "source": [
    "NumImages = []\n",
    "for i in range(np.min([1000, len(point_amp_list)])):\n",
    "    NumImages.append(len(point_amp_list[i][0]))\n",
    "NumImages = np.array(NumImages)\n",
    "\n",
    "hist(NumImages, bins=15, histtype='step', density=True, lw=2, color=\"midnightblue\", alpha=0.6);\n",
    "xlabel(r\"$N_{\\mathrm{images}}$\", fontsize=15);\n",
    "#xlabel(r\"$m$\", fontsize=15);\n",
    "ylabel(\"Counts\", fontsize=15);\n",
    "title(\"Number of images\", fontsize=15);\n",
    "#xlim(0,3.6);\n",
    "#savefig(\"Num_images_distribution_EPL2.pdf\", bbox_inches=\"tight\")"
   ]
  },
  {
   "cell_type": "code",
   "execution_count": null,
   "metadata": {},
   "outputs": [],
   "source": [
    "hist(np.log10(max_time_delay), bins=27, range=(-1,4), histtype='step', lw=2, color=\"darkgoldenrod\", label=r'simulated');\n",
    "xlabel(r\"$\\log (\\Delta t)$\", fontsize=15);\n",
    "#xlabel(r\"$m$\", fontsize=15);\n",
    "ylabel(\"Counts\", fontsize=15);\n",
    "title(\"Time delay distribution\", fontsize=15);\n",
    "#legend(fontsize=15);\n",
    "#xlim(0,700);\n",
    "#savefig(\"max_time_delay_distribution_EPL2.pdf\", bbox_inches=\"tight\")"
   ]
  },
  {
   "cell_type": "markdown",
   "metadata": {},
   "source": [
    "### Save images and all relevant quantities"
   ]
  },
  {
   "cell_type": "code",
   "execution_count": null,
   "metadata": {},
   "outputs": [],
   "source": [
    "np.savez(\"data/ZTF_training_images_26k_iband_image_properties_EPL_1.npz\", data_labels=data_labels,\n",
    "         z_source_list=z_source_list, point_amp_list=point_amp_list, abs_mag_ps_list=abs_mag_ps_list,\n",
    "         app_mag_ps_list=app_mag_ps_list, theta_E_list=theta_E_list, PSF_list=PSF_list, colour_param=colour_param,\n",
    "         stretch_param=stretch_param, max_time_delay=max_time_delay, z_lens_list=z_lens_list, time_stamps=time_stamps,\n",
    "         ra_source_list=ra_source_list, dec_source_list=dec_source_list, magnification_list=magnification_list)\n",
    "np.savez(\"data/ZFT_training_images_26k_iband_time_series_images_EPL_1.npz\", catalog_time_series=catalog_time_series,\n",
    "         images_single=images_single, images_peak=images_peak, time_stamps=time_stamps, data_labels=data_labels)\n",
    "\n",
    "#np.savez(\"data/lensed_test_images_10k_iband_image_properties_EPL2.npz\", data_labels=data_labels,\n",
    "         #z_source_list=z_source_list, point_amp_list=point_amp_list, abs_mag_ps_list=abs_mag_ps_list,\n",
    "         #app_mag_ps_list=app_mag_ps_list, theta_E_list=theta_E_list, PSF_list=PSF_list, colour_param=colour_param,\n",
    "         #stretch_param=stretch_param, max_time_delay=max_time_delay, z_lens_list=z_lens_list,\n",
    "         #ra_source_list=ra_source_list, dec_source_list=dec_source_list, magnification_list=magnification_list)\n",
    "#np.savez(\"data/lensed_test_images_10k_iband_time_series_images_EPL2.npz\", images_time_series=images_time_series,\n",
    "         #images_single=images_single, images_peak=images_peak, data_labels=data_labels)\n",
    "\n",
    "#np.savez(\"data/unlensed_test_images_10k_iband_image_properties.npz\", data_labels=data_labels,\n",
    "         #z_source_list=z_source_list, point_amp_list=point_amp_list, abs_mag_ps_list=abs_mag_ps_list,\n",
    "         #app_mag_ps_list=app_mag_ps_list, theta_E_list=theta_E_list, PSF_list=PSF_list, colour_param=colour_param,\n",
    "         #stretch_param=stretch_param, max_time_delay=max_time_delay, z_lens_list=z_lens_list,\n",
    "         #ra_source_list=ra_source_list, dec_source_list=dec_source_list, magnification_list=magnification_list)\n",
    "#np.savez(\"data/unlensed_test_images_10k_iband_time_series_images.npz\", images_time_series=images_time_series,\n",
    "         #images_single=images_single, images_peak=images_peak, data_labels=data_labels)"
   ]
  },
  {
   "cell_type": "code",
   "execution_count": null,
   "metadata": {},
   "outputs": [],
   "source": []
  },
  {
   "cell_type": "code",
   "execution_count": null,
   "metadata": {},
   "outputs": [],
   "source": []
  }
 ],
 "metadata": {
  "kernelspec": {
   "display_name": "nlp",
   "language": "python",
   "name": "nlp"
  },
  "language_info": {
   "codemirror_mode": {
    "name": "ipython",
    "version": 3
   },
   "file_extension": ".py",
   "mimetype": "text/x-python",
   "name": "python",
   "nbconvert_exporter": "python",
   "pygments_lexer": "ipython3",
   "version": "3.9.7"
  }
 },
 "nbformat": 4,
 "nbformat_minor": 4
}
