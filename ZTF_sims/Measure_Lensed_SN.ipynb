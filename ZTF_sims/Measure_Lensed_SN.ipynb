{
 "cells": [
  {
   "cell_type": "code",
   "execution_count": null,
   "id": "8be0510d",
   "metadata": {},
   "outputs": [],
   "source": [
    "import numpy as np\n",
    "import matplotlib.pyplot as plt\n",
    "import warnings\n",
    "warnings.filterwarnings('ignore')"
   ]
  },
  {
   "cell_type": "code",
   "execution_count": null,
   "id": "661e7bc2",
   "metadata": {},
   "outputs": [],
   "source": [
    "file = np.load(\"data/ZFT_training_images_26k_iband_time_series_images_EPL.npz\", allow_pickle = True)\n",
    "file_full = np.load(\"./data/ZTF_training_images_26k_iband_image_properties_EPL.npz\", allow_pickle = True)\n",
    "print(file_full.files)"
   ]
  },
  {
   "cell_type": "code",
   "execution_count": null,
   "id": "50443389",
   "metadata": {},
   "outputs": [],
   "source": [
    "print(file.files)\n",
    "\n",
    "catalog = file['catalog_time_series']\n",
    "labels = file['data_labels']     # array de liste de taille 2 remplie de 0 et 1      longueur : 929\n",
    "times = file['time_stamps']      # array contenant des listes de taille variable     longueur : 929\n",
    "\n",
    "mags = file_full['app_mag_ps_list']\n",
    "\n",
    "theta_e_list = file_full['theta_E_list']\n",
    "amplification = file_full['point_amp_list']"
   ]
  },
  {
   "cell_type": "code",
   "execution_count": null,
   "id": "7107b51f",
   "metadata": {
    "scrolled": false
   },
   "outputs": [],
   "source": [
    "plt.figure(figsize = (10,10))\n",
    "lensed_x = []\n",
    "lensed_y = []\n",
    "nonlensed_x = []\n",
    "nonlensed_y = []\n",
    "for indx, cat in enumerate(catalog):\n",
    "    #print('CAT', cat)\n",
    "    x_cat = []\n",
    "    y_cat = []\n",
    "    x2_cat = []\n",
    "    y2_cat = []\n",
    "    flux = []\n",
    "    for c in cat:\n",
    "        try:\n",
    "            #print('try', c['flux'])\n",
    "            x_cat.append(*c['x'])\n",
    "            y_cat.append(*c['y'])\n",
    "            x2_cat.append(*c['x2'])\n",
    "            y2_cat.append(*c['y2'])\n",
    "            flux.append(*c['cflux'])\n",
    "        except:\n",
    "        # quand c est vide, pour ne pas avoir de nan values, on remplace les trous par la moyenne des valeurs\n",
    "        # ou None pour le cas de x2, y2, flux\n",
    "        \n",
    "        # Mais pq remplir les listes x_cat et y_cat vu qu'elles ne sont pas utilisées pour après? \n",
    "            x_cat.append(np.nan)\n",
    "            y_cat.append(np.nan)\n",
    "            x2_cat.append(None)\n",
    "            y2_cat.append(None)\n",
    "            flux.append(None)\n",
    "            \n",
    "        #print(len(c), c['flux'])\n",
    "        #print(x_cat)\n",
    "#    plt.title(labels[indx])\n",
    "#    plt.plot(np.array(x_cat), np.array(y_cat), 'o', label = 'y_cat VS x_cat')\n",
    "#    plt.legend()\n",
    "#    plt.show()\n",
    "#    plt.plot( np.array(x2_cat), 'o', label = 'x2_cat')\n",
    "#    plt.legend()\n",
    "#    plt.show()\n",
    "#    plt.plot( np.array(y2_cat), 'o', label = 'y2_cat')\n",
    "#    plt.legend()\n",
    "#    plt.show()\n",
    "#    plt.plot(np.array(flux), label='flux')\n",
    "#    plt.legend()\n",
    "#    plt.show()\n",
    "    \n",
    "    if labels[indx][0] == 0:\n",
    "        #print('00000000', labels[indx], 'BLEUUUUU')\n",
    "        #plt.plot(times[indx], flux, 'b', alpha = 0.3)\n",
    "        plt.plot(np.array(x_cat)-np.nanmean(x_cat), np.array(y_cat)-np.nanmean(y_cat), 'ob', alpha = 0.1)\n",
    "        nonlensed_x.append(np.array(x_cat)-np.nanmean(x_cat))\n",
    "        nonlensed_y.append(np.array(y_cat)-np.nanmean(y_cat))\n",
    "    else:\n",
    "        lensed_x.append(np.array(x_cat)-np.nanmean(x_cat))\n",
    "        lensed_y.append(np.array(y_cat)-np.nanmean(y_cat))\n",
    "        #print(labels[indx], 'ROUUUUGE')\n",
    "        #plt.plot(times[indx], flux, 'r')\n",
    "        plt.plot(np.array(x_cat)-np.nanmean(x_cat), np.array(y_cat)-np.nanmean(y_cat), 'or', alpha = 0.1)\n",
    "#plt.xlim([-2,2])\n",
    "#plt.ylim([-2, 2])\n",
    "\n",
    "plt.show()"
   ]
  },
  {
   "cell_type": "code",
   "execution_count": null,
   "id": "37e94b1f",
   "metadata": {},
   "outputs": [],
   "source": [
    "plt.hist(theta_e_list, bins=25, histtype='step', density=True, lw=2, color=\"midnightblue\", alpha=0.6);\n",
    "#plot(theta_E, 9*pdf,'-', color=\"darkgoldenrod\", lw=5, alpha=0.6, label=r'$\\mathrm{Radek \\ MC}$')\n",
    "plt.xlabel(r\"$\\theta_{\\mathrm{E}}$\", fontsize=15);\n",
    "#xlabel(r\"$m$\", fontsize=15);\n",
    "plt.ylabel(\"Counts\", fontsize=15);\n",
    "plt.title(\"Einstein radius distribution\", fontsize=15);\n",
    "#xlim(0,3.6);\n",
    "#savefig(\"theta_E_distribution_EPL2.pdf\", bbox_inches=\"tight\")"
   ]
  },
  {
   "cell_type": "code",
   "execution_count": null,
   "id": "298ac4b7",
   "metadata": {},
   "outputs": [],
   "source": [
    "plt.figure(figsize=(20,10))\n",
    "plt.hist(np.concatenate(lensed_x).flatten(), bins=700, histtype='step', density=True, lw=2, alpha=0.6, label='lensed')\n",
    "plt.hist(np.concatenate(nonlensed_x).flatten(), bins=100, histtype='step', density=True, lw=2,  alpha=0.6, label = 'non lensed')\n",
    "#plot(theta_E, 9*pdf,'-', color=\"darkgoldenrod\", lw=5, alpha=0.6, label=r'$\\mathrm{Radek \\ MC}$')\n",
    "plt.xlabel(r\"$X_{(pixels)}$\", fontsize=25);\n",
    "#xlabel(r\"$m$\", fontsize=15);\n",
    "plt.ylabel(\"Counts\", fontsize=25);\n",
    "plt.xlim([-2,2])\n",
    "plt.legend(fontsize=20)\n",
    "plt.title(\"Measured positions of centroids\", fontsize=35);"
   ]
  },
  {
   "cell_type": "code",
   "execution_count": null,
   "id": "610be48c",
   "metadata": {},
   "outputs": [],
   "source": [
    "plt.figure(figsize=(20,10))\n",
    "plt.hist(np.array([np.nanmax(np.abs(x)) for x in lensed_x]), bins=700, histtype='step',  lw=2, alpha=0.6)\n",
    "plt.hist(np.array([np.nanmax(np.abs(x)) for x in nonlensed_x]), bins=100, histtype='step',  lw=2,  alpha=0.6)\n",
    "#plot(theta_E, 9*pdf,'-', color=\"darkgoldenrod\", lw=5, alpha=0.6, label=r'$\\mathrm{Radek \\ MC}$')\n",
    "plt.xlabel(r\"$X_{(pixels)}$\", fontsize=25);\n",
    "#xlabel(r\"$m$\", fontsize=15);\n",
    "plt.ylabel(\"Counts\", fontsize=25);\n",
    "plt.xlim([0,2])\n",
    "plt.title(\"Measured positions of centroids\", fontsize=35);"
   ]
  },
  {
   "cell_type": "code",
   "execution_count": null,
   "id": "328741ee",
   "metadata": {},
   "outputs": [],
   "source": [
    "plt.figure(figsize=(20,10))\n",
    "plt.hist(np.array([np.nanmin(np.abs(x)) for x in lensed_x]), bins=7000,density=True, histtype='step',  lw=2, alpha=0.6)\n",
    "plt.hist(np.array([np.nanmin(np.abs(x)) for x in nonlensed_x]), bins=1000, density = True, histtype='step',  lw=2,  alpha=0.6)\n",
    "#plot(theta_E, 9*pdf,'-', color=\"darkgoldenrod\", lw=5, alpha=0.6, label=r'$\\mathrm{Radek \\ MC}$')\n",
    "plt.xlabel(r\"$X_{(pixels)}$\", fontsize=25);\n",
    "#xlabel(r\"$m$\", fontsize=15);\n",
    "plt.ylabel(\"Counts\", fontsize=25);\n",
    "plt.xlim([0,0.2])\n",
    "plt.title(\"Measured positions of centroids\", fontsize=35);"
   ]
  },
  {
   "cell_type": "code",
   "execution_count": null,
   "id": "64e2a363",
   "metadata": {},
   "outputs": [],
   "source": []
  }
 ],
 "metadata": {
  "kernelspec": {
   "display_name": "nlp",
   "language": "python",
   "name": "nlp"
  },
  "language_info": {
   "codemirror_mode": {
    "name": "ipython",
    "version": 3
   },
   "file_extension": ".py",
   "mimetype": "text/x-python",
   "name": "python",
   "nbconvert_exporter": "python",
   "pygments_lexer": "ipython3",
   "version": "3.9.7"
  }
 },
 "nbformat": 4,
 "nbformat_minor": 5
}
