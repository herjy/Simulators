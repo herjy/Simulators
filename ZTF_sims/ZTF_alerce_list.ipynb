{
 "cells": [
  {
   "cell_type": "markdown",
   "metadata": {},
   "source": [
    "## Processing ZTF alerts using alerce"
   ]
  },
  {
   "cell_type": "markdown",
   "metadata": {},
   "source": [
    "### Import python libraries"
   ]
  },
  {
   "cell_type": "code",
   "execution_count": null,
   "metadata": {},
   "outputs": [],
   "source": [
    "import matplotlib.pyplot as plt\n",
    "from matplotlib import rc\n",
    "rc('text', usetex=True)\n",
    "from mpl_toolkits.axes_grid1 import make_axes_locatable\n",
    "\n",
    "import os\n",
    "import io\n",
    "import gzip\n",
    "import tarfile\n",
    "import warnings\n",
    "\n",
    "import numpy as np\n",
    "import pandas as pd\n",
    "from tqdm import tqdm\n",
    "\n",
    "from alerce.core import Alerce\n",
    "alerce = Alerce()\n",
    "\n",
    "from astropy.time import Time\n",
    "from astropy.io import fits\n",
    "import astropy.units as u\n",
    "import aplpy\n",
    "%matplotlib inline"
   ]
  },
  {
   "cell_type": "markdown",
   "metadata": {},
   "source": [
    "### Get time-series images of ZTF objects using their unique identifiers"
   ]
  },
  {
   "cell_type": "code",
   "execution_count": null,
   "metadata": {},
   "outputs": [],
   "source": [
    "ZTF_transient_list = np.load(\"data/ZTF_selection.npz\")['transient_selection_list'].tolist()"
   ]
  },
  {
   "cell_type": "code",
   "execution_count": null,
   "metadata": {},
   "outputs": [],
   "source": [
    "ztf_ID = []\n",
    "ztf_time_series_images = []"
   ]
  },
  {
   "cell_type": "code",
   "execution_count": null,
   "metadata": {},
   "outputs": [],
   "source": [
    "len(ZTF_transient_list)"
   ]
  },
  {
   "cell_type": "code",
   "execution_count": null,
   "metadata": {},
   "outputs": [],
   "source": [
    "3608 + 292"
   ]
  },
  {
   "cell_type": "code",
   "execution_count": null,
   "metadata": {},
   "outputs": [],
   "source": [
    "#ztf_ID = []\n",
    "#ztf_time_series_images = []\n",
    "#pbar = tqdm(total=len(ZTF_transient_list))\n",
    "pbar = tqdm(total=len(ZTF_transient_list[3903:]))\n",
    "\n",
    "for ztf in ZTF_transient_list[3903:]:    \n",
    "    r_band = False\n",
    "    detections = alerce.query_detections(ztf, format=\"json\")   # to get access to detected transients \n",
    "    transient_candid = []\n",
    "    for i in range(len(detections)):\n",
    "        if detections[i]['fid'] == 2: # r-band\n",
    "            r_band = True\n",
    "            transient_candid.append(detections[i]['candid'])\n",
    "\n",
    "    transient_time_series_images = []\n",
    "    for k in transient_candid:\n",
    "        hdul = alerce.get_stamps(oid = ztf, candid = k)\n",
    "        if hdul is not None:\n",
    "            transient_time_series_images.append(np.nan_to_num(hdul[2].data[int(63/2)-24:int(63/2)+24,\n",
    "                                                                           int(63/2)-24:int(63/2)+24]))\n",
    "    if r_band:\n",
    "        ztf_ID.append(ztf)\n",
    "        ztf_time_series_images.append(transient_time_series_images)\n",
    "\n",
    "    pbar.update(1)"
   ]
  },
  {
   "cell_type": "code",
   "execution_count": null,
   "metadata": {},
   "outputs": [],
   "source": [
    "import socket\n",
    "socket.setdefaulttimeout(100000)\n",
    "sock = socket.socket()\n",
    "sock.timeout"
   ]
  },
  {
   "cell_type": "code",
   "execution_count": null,
   "metadata": {},
   "outputs": [],
   "source": [
    "len(ztf_ID)"
   ]
  },
  {
   "cell_type": "markdown",
   "metadata": {},
   "source": [
    "### Need to apply cut-off in time series and also select a random single-epoch image from full series"
   ]
  },
  {
   "cell_type": "code",
   "execution_count": null,
   "metadata": {},
   "outputs": [],
   "source": [
    "#np.savez(\"data/real_ZTF_images.npz\", images_time_series=ztf_time_series_images, images_single=images_single, ztf_ID=ztf_ID)"
   ]
  },
  {
   "cell_type": "code",
   "execution_count": null,
   "metadata": {},
   "outputs": [],
   "source": [
    "np.savez(\"data/ZTF_data.npz\", ztf_ID=ztf_ID, ztf_time_series_images=ztf_time_series_images)"
   ]
  },
  {
   "cell_type": "code",
   "execution_count": null,
   "metadata": {},
   "outputs": [],
   "source": [
    "imshow(transient_time_series_images[8], vmin=-30, vmax=100, cmap=\"viridis\", origin=\"lower\", extent=(-24,24,-24,24)); colorbar();"
   ]
  },
  {
   "cell_type": "code",
   "execution_count": null,
   "metadata": {},
   "outputs": [],
   "source": [
    "import matplotlib.gridspec as gridspec\n",
    "\n",
    "f = figure(figsize=(12,4))\n",
    "gs = gridspec.GridSpec(1, 6)\n",
    "gs.update(wspace=0.075, hspace=0.) # set the spacing between axes.\n",
    "ax0 = plt.subplot(gs[0])\n",
    "ax0.imshow(transient_time_series_images[6], origin=\"lower\", extent=(-24,24,-24,24), vmin=-50, vmax=100, cmap=\"cividis\");\n",
    "ax0.set_title(r\"$t_6$\", fontsize=14);\n",
    "ax0.axis('off');\n",
    "ax0.set_xticks([]);\n",
    "ax0.set_yticks([]);\n",
    "ax1 = plt.subplot(gs[1])\n",
    "ax1.imshow(transient_time_series_images[7], origin=\"lower\", extent=(-24,24,-24,24), vmin=-50, vmax=100, cmap=\"cividis\");\n",
    "ax1.set_title(r\"$t_7$\", fontsize=14);\n",
    "ax1.axis('off');\n",
    "ax2 = plt.subplot(gs[2])\n",
    "ax2.imshow(transient_time_series_images[8], origin=\"lower\", extent=(-24,24,-24,24), vmin=-50, vmax=100, cmap=\"cividis\");\n",
    "ax2.set_title(r\"$t_8$\", fontsize=14);\n",
    "ax2.axis('off');\n",
    "ax3 = plt.subplot(gs[3])\n",
    "ax3.imshow(transient_time_series_images[9], origin=\"lower\", extent=(-24,24,-24,24), vmin=-50, vmax=100, cmap=\"cividis\");\n",
    "ax3.set_title(r\"$t_9$\", fontsize=14);\n",
    "ax3.axis('off');\n",
    "ax4 = plt.subplot(gs[4])\n",
    "ax4.imshow(transient_time_series_images[10], origin=\"lower\", extent=(-24,24,-24,24), vmin=-50, vmax=100, cmap=\"cividis\");\n",
    "ax4.set_title(r\"$t_{10}$\", fontsize=14);\n",
    "ax4.set_xticks([]);\n",
    "ax4.set_yticks([]);\n",
    "ax4.axis('off');\n",
    "ax5 = plt.subplot(gs[5])\n",
    "ax5.imshow(transient_time_series_images[11], origin=\"lower\", extent=(-24,24,-24,24), vmin=-50, vmax=100, cmap=\"cividis\");\n",
    "ax5.set_title(r\"$t_{11}$\", fontsize=14);\n",
    "ax5.axis('off');\n",
    "\n",
    "#f.savefig(\"ZTF18aaxpois_time_series_images.pdf\", bbox_inches=\"tight\")"
   ]
  },
  {
   "cell_type": "code",
   "execution_count": null,
   "metadata": {},
   "outputs": [],
   "source": [
    "import matplotlib.gridspec as gridspec\n",
    "\n",
    "f = figure(figsize=(12,4))\n",
    "gs = gridspec.GridSpec(1, 6)\n",
    "gs.update(wspace=0.075, hspace=0.) # set the spacing between axes.\n",
    "ax0 = plt.subplot(gs[0])\n",
    "ax0.imshow(transient_time_series_images[0], origin=\"lower\", extent=(-24,24,-24,24), cmap=\"viridis\");\n",
    "ax0.set_title(r\"$t_0$\", fontsize=14);\n",
    "ax0.axis('off');\n",
    "ax0.set_xticks([]);\n",
    "ax0.set_yticks([]);\n",
    "ax1 = plt.subplot(gs[1])\n",
    "ax1.imshow(transient_time_series_images[5], origin=\"lower\", extent=(-24,24,-24,24), cmap=\"viridis\");\n",
    "ax1.set_title(r\"$t_1$\", fontsize=14);\n",
    "ax1.axis('off');\n",
    "ax2 = plt.subplot(gs[2])\n",
    "ax2.imshow(transient_time_series_images[10], origin=\"lower\", extent=(-24,24,-24,24), cmap=\"viridis\");\n",
    "ax2.set_title(r\"$t_2$\", fontsize=14);\n",
    "ax2.axis('off');\n",
    "ax3 = plt.subplot(gs[3])\n",
    "ax3.imshow(transient_time_series_images[15], origin=\"lower\", extent=(-24,24,-24,24), cmap=\"viridis\");\n",
    "ax3.set_title(r\"$t_3$\", fontsize=14);\n",
    "ax3.axis('off');\n",
    "ax4 = plt.subplot(gs[4])\n",
    "ax4.imshow(transient_time_series_images[20], origin=\"lower\", extent=(-24,24,-24,24), cmap=\"viridis\");\n",
    "ax4.set_title(r\"$t_4$\", fontsize=14);\n",
    "ax4.set_xticks([]);\n",
    "ax4.set_yticks([]);\n",
    "ax4.axis('off');\n",
    "ax5 = plt.subplot(gs[5])\n",
    "ax5.imshow(transient_time_series_images[25], origin=\"lower\", extent=(-24,24,-24,24), cmap=\"viridis\");\n",
    "ax5.set_title(r\"$t_5$\", fontsize=14);\n",
    "ax5.axis('off');"
   ]
  },
  {
   "cell_type": "code",
   "execution_count": null,
   "metadata": {},
   "outputs": [],
   "source": []
  }
 ],
 "metadata": {
  "kernelspec": {
   "display_name": "nlp",
   "language": "python",
   "name": "nlp"
  },
  "language_info": {
   "codemirror_mode": {
    "name": "ipython",
    "version": 3
   },
   "file_extension": ".py",
   "mimetype": "text/x-python",
   "name": "python",
   "nbconvert_exporter": "python",
   "pygments_lexer": "ipython3",
   "version": "3.9.7"
  }
 },
 "nbformat": 4,
 "nbformat_minor": 4
}
